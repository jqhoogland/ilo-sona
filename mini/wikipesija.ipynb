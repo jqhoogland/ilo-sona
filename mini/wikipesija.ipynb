{
 "cells": [
  {
   "cell_type": "code",
   "execution_count": 1,
   "metadata": {},
   "outputs": [],
   "source": [
    "import os\n",
    "import pickle\n",
    "import requests\n",
    "from bs4 import BeautifulSoup\n",
    "import time"
   ]
  },
  {
   "cell_type": "code",
   "execution_count": 2,
   "metadata": {},
   "outputs": [
    {
     "name": "stdout",
     "output_type": "stream",
     "text": [
      "1816 articles.\n"
     ]
    }
   ],
   "source": [
    "os.makedirs('wikipesija', exist_ok=True)\n",
    "\n",
    "infile = open(\"wikipesija_articles.pickle\", \"rb\")\n",
    "articles = pickle.load(infile); infile.close()\n",
    "print(f\"{len(articles)} articles.\")\n",
    "\n",
    "for url in articles:\n",
    "    title = url.split(\"/\")[-1]\n",
    "    response = requests.get(url)\n",
    "    soup = BeautifulSoup(response.text, 'html.parser')\n",
    "    text = '\\n'.join(p.get_text() for p in soup.find_all('p'))\n",
    "    with open(f'wikipesija/{title}.txt', 'w', encoding='utf-8') as f:\n",
    "        f.write(text)\n",
    "    time.sleep(0.5)"
   ]
  }
 ],
 "metadata": {
  "kernelspec": {
   "display_name": "ml",
   "language": "python",
   "name": "python3"
  },
  "language_info": {
   "codemirror_mode": {
    "name": "ipython",
    "version": 3
   },
   "file_extension": ".py",
   "mimetype": "text/x-python",
   "name": "python",
   "nbconvert_exporter": "python",
   "pygments_lexer": "ipython3",
   "version": "3.10.11"
  },
  "orig_nbformat": 4
 },
 "nbformat": 4,
 "nbformat_minor": 2
}
