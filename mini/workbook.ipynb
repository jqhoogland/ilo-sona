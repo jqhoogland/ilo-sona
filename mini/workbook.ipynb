{
 "cells": [
  {
   "cell_type": "code",
   "execution_count": 12,
   "metadata": {},
   "outputs": [],
   "source": [
    "import yaml\n",
    "\n",
    "def get_vocab(path):\n",
    "    with open(path, 'r') as f: \n",
    "        data = yaml.safe_load(f)\n",
    "    words = [list(entry.keys())[0] for entry in data]\n",
    "    return words\n",
    "\n",
    "# Get words from dictonary file (living in ilosona dir).\n",
    "words = get_vocab(\"../ilosona/dictionary.yaml\")\n"
   ]
  }
 ],
 "metadata": {
  "kernelspec": {
   "display_name": "mlab2",
   "language": "python",
   "name": "python3"
  },
  "language_info": {
   "codemirror_mode": {
    "name": "ipython",
    "version": 3
   },
   "file_extension": ".py",
   "mimetype": "text/x-python",
   "name": "python",
   "nbconvert_exporter": "python",
   "pygments_lexer": "ipython3",
   "version": "3.9.16"
  },
  "orig_nbformat": 4
 },
 "nbformat": 4,
 "nbformat_minor": 2
}
