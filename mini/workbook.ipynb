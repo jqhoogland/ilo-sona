{
 "cells": [
  {
   "cell_type": "code",
<<<<<<< HEAD
   "execution_count": 1,
   "metadata": {},
   "outputs": [
    {
     "name": "stdout",
     "output_type": "stream",
     "text": [
      "number of parameters: 0.25M\n",
      "running on device cuda\n",
      " 30%|█████████████▏                              | 3/10 [00:25<00:59,  8.54s/it]^C\n",
      " 30%|█████████████▏                              | 3/10 [00:27<01:03,  9.09s/it]\n",
      "Traceback (most recent call last):\n",
      "  File \"/home/narayi/ilo-sona/mini/minitrain.py\", line 47, in <module>\n",
      "    train(\"../corpus\")\n",
      "  File \"/home/narayi/ilo-sona/mini/minitrain.py\", line 43, in train\n",
      "    trainer.run()\n",
      "  File \"/home/narayi/ilo-sona/mingpt/trainer.py\", line 99, in run\n",
      "    logits, self.loss = model(batch)\n",
      "  File \"/home/narayi/miniconda3/envs/ml/lib/python3.10/site-packages/torch/nn/modules/module.py\", line 1501, in _call_impl\n",
      "    return forward_call(*args, **kwargs)\n",
      "  File \"/home/narayi/ilo-sona/mingpt/model.py\", line 271, in forward\n",
      "    loss_fn = nn.CrossEntropyLoss()\n",
      "  File \"/home/narayi/miniconda3/envs/ml/lib/python3.10/site-packages/torch/nn/modules/loss.py\", line 1169, in __init__\n",
      "    super().__init__(weight, size_average, reduce, reduction)\n",
      "  File \"/home/narayi/miniconda3/envs/ml/lib/python3.10/site-packages/torch/nn/modules/loss.py\", line 30, in __init__\n",
      "    super().__init__(size_average, reduce, reduction)\n",
      "  File \"/home/narayi/miniconda3/envs/ml/lib/python3.10/site-packages/torch/nn/modules/loss.py\", line 21, in __init__\n",
      "    super().__init__()\n",
      "  File \"/home/narayi/miniconda3/envs/ml/lib/python3.10/site-packages/torch/nn/modules/module.py\", line 458, in __init__\n",
      "    super().__setattr__('training', True)\n",
      "KeyboardInterrupt\n"
     ]
    }
   ],
   "source": [
    "!python minitrain.py"
=======
   "execution_count": 12,
   "metadata": {},
   "outputs": [],
   "source": [
    "import yaml\n",
    "\n",
    "def get_vocab(path):\n",
    "    with open(path, 'r') as f: \n",
    "        data = yaml.safe_load(f)\n",
    "    words = [list(entry.keys())[0] for entry in data]\n",
    "    return words\n",
    "\n",
    "# Get words from dictonary file (living in ilosona dir).\n",
    "words = get_vocab(\"../ilosona/dictionary.yaml\")\n"
>>>>>>> 707f3a1356fe6de5b1474b20fb62a04cee4266f5
   ]
  }
 ],
 "metadata": {
  "kernelspec": {
   "display_name": "mlab2",
   "language": "python",
   "name": "python3"
  },
  "language_info": {
   "codemirror_mode": {
    "name": "ipython",
    "version": 3
   },
   "file_extension": ".py",
   "mimetype": "text/x-python",
   "name": "python",
   "nbconvert_exporter": "python",
   "pygments_lexer": "ipython3",
<<<<<<< HEAD
   "version": "3.10.11"
=======
   "version": "3.9.16"
>>>>>>> 707f3a1356fe6de5b1474b20fb62a04cee4266f5
  },
  "orig_nbformat": 4
 },
 "nbformat": 4,
 "nbformat_minor": 2
}
